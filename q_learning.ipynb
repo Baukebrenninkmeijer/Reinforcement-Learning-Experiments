{
 "cells": [
  {
   "cell_type": "code",
   "execution_count": 1,
   "metadata": {},
   "outputs": [],
   "source": [
    "import pandas as pd\n",
    "import numpy as np\n",
    "import gym\n",
    "import random\n",
    "\n",
    "from os import system\n",
    "from time import sleep\n",
    "from tqdm import tqdm_notebook\n",
    "from IPython.display import clear_output\n"
   ]
  },
  {
   "cell_type": "code",
   "execution_count": 2,
   "metadata": {},
   "outputs": [],
   "source": [
    "class QLearningAgent():\n",
    "    def __init__(self, env=None):\n",
    "        if env is None:\n",
    "            env = gym.make('Taxi-v2')\n",
    "        self.env = env\n",
    "        self.observation_space = env.observation_space\n",
    "        self.action_space = env.action_space\n",
    "\n",
    "        self.q_table = np.zeros([self.observation_space.n, self.action_space.n])\n",
    "\n",
    "        self.α = 0.3\n",
    "        self.ε = 0.95 \n",
    "        self.γ = 0.6\n",
    "    \n",
    "    def update_q_value(self, reward, state, action, new_state):\n",
    "        current_q = self.q_table[state, action]\n",
    "        self.q_table[state, action] = current_q + self.α * (reward + self.γ * np.max(self.q_table[new_state]) - current_q)\n",
    "    \n",
    "    def epsilon_greedy(self, state):\n",
    "        if self.ε > np.random.rand():\n",
    "            return self.action_space.sample()\n",
    "        else:\n",
    "            return np.argmax(self.q_table[state])\n",
    "        \n",
    "    def training(self, epochs=5000):\n",
    "        for i in tqdm_notebook(range(epochs)):\n",
    "            done = False\n",
    "            state = self.env.reset()\n",
    "            \n",
    "            while not done:\n",
    "                action = self.epsilon_greedy(state)\n",
    "                next_state, reward, done, _ = self.env.step(action)\n",
    "                self.update_q_value(reward, state, action, next_state)\n",
    "                state = next_state\n",
    "            if i % 500 == 0:\n",
    "                self.ε *= self.ε\n",
    "                \n",
    "    def run_episode(self, stupid_strategy=False):\n",
    "        done = False\n",
    "        state = self.env.reset()\n",
    "        timestep = 0\n",
    "        \n",
    "        while not done:\n",
    "            clear_output()\n",
    "            if stupid_strategy:\n",
    "                action = self.action_space.sample()\n",
    "            else:\n",
    "                action = np.argmax(self.q_table[state])\n",
    "                print(f'action proposed from Q table:{np.argmax(self.qTable[state])}')\n",
    "\n",
    "            state, reward, done, _ = self.env.step(action)\n",
    "            self.env.render()\n",
    "            timestep += 1\n",
    "            print(f'state: {state}, reward: {reward}, maxQ: {np.argmax(self.q_table[state])}')\n",
    "            sleep(1)\n",
    "        print(f'Done! It took {timesteps} timesteps!')\n",
    "                "
   ]
  },
  {
   "cell_type": "code",
   "execution_count": null,
   "metadata": {},
   "outputs": [],
   "source": []
  },
  {
   "cell_type": "code",
   "execution_count": 3,
   "metadata": {},
   "outputs": [],
   "source": [
    "q_agent = QLearningAgent()"
   ]
  },
  {
   "cell_type": "code",
   "execution_count": 4,
   "metadata": {},
   "outputs": [
    {
     "data": {
      "application/vnd.jupyter.widget-view+json": {
       "model_id": "12d0c2aa5fd04240858e02c1756ecd60",
       "version_major": 2,
       "version_minor": 0
      },
      "text/plain": [
       "HBox(children=(IntProgress(value=0, max=5000), HTML(value='')))"
      ]
     },
     "metadata": {},
     "output_type": "display_data"
    },
    {
     "name": "stdout",
     "output_type": "stream",
     "text": [
      "\n"
     ]
    }
   ],
   "source": [
    "q_agent.training(5000)"
   ]
  },
  {
   "cell_type": "code",
   "execution_count": 5,
   "metadata": {},
   "outputs": [
    {
     "name": "stdout",
     "output_type": "stream",
     "text": [
      "+---------+\n",
      "|R: | : :G|\n",
      "| : : : : |\n",
      "| : : : : |\n",
      "| | : | : |\n",
      "|Y| : |B: |\n",
      "+---------+\n",
      "  (Dropoff)\n",
      "state: 410, reward: 20, maxQ: 0\n",
      "Done\n"
     ]
    }
   ],
   "source": [
    "q_agent.run_episode()"
   ]
  },
  {
   "cell_type": "code",
   "execution_count": 6,
   "metadata": {},
   "outputs": [
    {
     "data": {
      "text/plain": [
       "array([[  0.        ,   0.        ,   0.        ,   0.        ,\n",
       "          0.        ,   0.        ],\n",
       "       [ -2.27325184,  -2.1220864 ,  -2.27325184,  -2.1220864 ,\n",
       "         -1.870144  , -11.1220864 ],\n",
       "       [ -1.870144  ,  -1.45024   ,  -1.870144  ,  -1.45024   ,\n",
       "         -0.7504    , -10.45024   ],\n",
       "       ...,\n",
       "       [ -0.78816177,   0.416     ,  -0.75052312,  -1.45048939,\n",
       "         -9.75096754,  -9.7518095 ],\n",
       "       [ -2.27334986,  -2.12222073,  -2.2732736 ,  -2.1220864 ,\n",
       "        -11.27326178, -11.27329356],\n",
       "       [  5.59987562,   2.35999897,   5.59998892,  11.        ,\n",
       "         -3.40002129,  -3.39999295]])"
      ]
     },
     "execution_count": 6,
     "metadata": {},
     "output_type": "execute_result"
    }
   ],
   "source": [
    "q_agent.q_table"
   ]
  },
  {
   "cell_type": "code",
   "execution_count": 26,
   "metadata": {},
   "outputs": [
    {
     "data": {
      "text/plain": [
       "500"
      ]
     },
     "execution_count": 26,
     "metadata": {},
     "output_type": "execute_result"
    }
   ],
   "source": [
    "env.observation_space.n"
   ]
  },
  {
   "cell_type": "code",
   "execution_count": 2,
   "metadata": {},
   "outputs": [
    {
     "name": "stdout",
     "output_type": "stream",
     "text": [
      "+---------+\n",
      "|R: | : :G|\n",
      "| : : : : |\n",
      "| : : : : |\n",
      "| | : | : |\n",
      "|Y| : |B: |\n",
      "+---------+\n",
      "  (Pickup)\n",
      "state: 232, reward: -10, done: False, info: {'prob': 1.0}\n"
     ]
    },
    {
     "ename": "KeyboardInterrupt",
     "evalue": "",
     "output_type": "error",
     "traceback": [
      "\u001b[1;31m---------------------------------------------------------------------------\u001b[0m",
      "\u001b[1;31mKeyboardInterrupt\u001b[0m                         Traceback (most recent call last)",
      "\u001b[1;32m<ipython-input-2-e88065291e38>\u001b[0m in \u001b[0;36m<module>\u001b[1;34m\u001b[0m\n\u001b[0;32m      9\u001b[0m     \u001b[0menv\u001b[0m\u001b[1;33m.\u001b[0m\u001b[0mrender\u001b[0m\u001b[1;33m(\u001b[0m\u001b[1;33m)\u001b[0m\u001b[1;33m\u001b[0m\u001b[1;33m\u001b[0m\u001b[0m\n\u001b[0;32m     10\u001b[0m     \u001b[0mprint\u001b[0m\u001b[1;33m(\u001b[0m\u001b[1;34mf'state: {obs}, reward: {reward}, done: {done}, info: {info}'\u001b[0m\u001b[1;33m)\u001b[0m\u001b[1;33m\u001b[0m\u001b[1;33m\u001b[0m\u001b[0m\n\u001b[1;32m---> 11\u001b[1;33m     \u001b[0msleep\u001b[0m\u001b[1;33m(\u001b[0m\u001b[1;36m.5\u001b[0m\u001b[1;33m)\u001b[0m\u001b[1;33m\u001b[0m\u001b[1;33m\u001b[0m\u001b[0m\n\u001b[0m\u001b[0;32m     12\u001b[0m     \u001b[1;32mif\u001b[0m \u001b[0mdone\u001b[0m\u001b[1;33m:\u001b[0m\u001b[1;33m\u001b[0m\u001b[1;33m\u001b[0m\u001b[0m\n\u001b[0;32m     13\u001b[0m         \u001b[0menv\u001b[0m\u001b[1;33m.\u001b[0m\u001b[0mreset\u001b[0m\u001b[1;33m(\u001b[0m\u001b[1;33m)\u001b[0m\u001b[1;33m\u001b[0m\u001b[1;33m\u001b[0m\u001b[0m\n",
      "\u001b[1;31mKeyboardInterrupt\u001b[0m: "
     ]
    }
   ],
   "source": [
    "env = gym.make('Taxi-v2')\n",
    "env.reset()\n",
    "\n",
    "for i in range(40):\n",
    "#     system('clear')\n",
    "    clear_output()\n",
    "    a = env.action_space.sample()\n",
    "    obs, reward, done, info = env.step(a)\n",
    "    env.render()\n",
    "    print(f'state: {obs}, reward: {reward}, done: {done}, info: {info}')\n",
    "    sleep(.5)\n",
    "    if done:\n",
    "        env.reset()"
   ]
  },
  {
   "cell_type": "code",
   "execution_count": null,
   "metadata": {},
   "outputs": [],
   "source": []
  }
 ],
 "metadata": {
  "kernelspec": {
   "display_name": "fastai (3.6.7)",
   "language": "python",
   "name": "fastai"
  },
  "language_info": {
   "codemirror_mode": {
    "name": "ipython",
    "version": 3
   },
   "file_extension": ".py",
   "mimetype": "text/x-python",
   "name": "python",
   "nbconvert_exporter": "python",
   "pygments_lexer": "ipython3",
   "version": "3.7.2"
  }
 },
 "nbformat": 4,
 "nbformat_minor": 4
}
